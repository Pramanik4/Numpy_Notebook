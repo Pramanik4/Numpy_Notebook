{
  "nbformat": 4,
  "nbformat_minor": 0,
  "metadata": {
    "colab": {
      "name": "Numpy.ipynb",
      "provenance": [],
      "collapsed_sections": []
    },
    "kernelspec": {
      "name": "python3",
      "display_name": "Python 3"
    },
    "language_info": {
      "name": "python"
    }
  },
  "cells": [
    {
      "cell_type": "code",
      "metadata": {
        "id": "CtGhf2NFRGTQ",
        "colab": {
          "base_uri": "https://localhost:8080/"
        },
        "outputId": "6f6c8de5-6c14-4e96-fcce-0f208fde0715"
      },
      "source": [
        "# basic in numpy\n",
        "import numpy as np\n",
        "lists = np.array([1,2,3,4])\n",
        "print(lists)"
      ],
      "execution_count": null,
      "outputs": [
        {
          "output_type": "stream",
          "text": [
            "[1 2 3 4]\n"
          ],
          "name": "stdout"
        }
      ]
    },
    {
      "cell_type": "code",
      "metadata": {
        "id": "bYwJvqeasG-Q",
        "colab": {
          "base_uri": "https://localhost:8080/"
        },
        "outputId": "e59240c8-19a6-4517-a7c6-fa18e4426977"
      },
      "source": [
        "# eye()\n",
        "import numpy as np\n",
        "x = np.eye(5)\n",
        "print(x)"
      ],
      "execution_count": null,
      "outputs": [
        {
          "output_type": "stream",
          "name": "stdout",
          "text": [
            "[[1. 0. 0. 0. 0.]\n",
            " [0. 1. 0. 0. 0.]\n",
            " [0. 0. 1. 0. 0.]\n",
            " [0. 0. 0. 1. 0.]\n",
            " [0. 0. 0. 0. 1.]]\n"
          ]
        }
      ]
    },
    {
      "cell_type": "code",
      "source": [
        "# random.randint()\n",
        "import numpy as np\n",
        "from numpy import random\n",
        "x = random.randint(1,10,(3,3)) # start , end , (rows,columns)\n",
        "print(x)"
      ],
      "metadata": {
        "colab": {
          "base_uri": "https://localhost:8080/"
        },
        "id": "MCExzOACFXm5",
        "outputId": "9cea3b8e-cc08-4771-f229-c4b32137887c"
      },
      "execution_count": null,
      "outputs": [
        {
          "output_type": "stream",
          "name": "stdout",
          "text": [
            "[[4 8 7]\n",
            " [1 2 9]\n",
            " [4 4 7]]\n"
          ]
        }
      ]
    },
    {
      "cell_type": "code",
      "source": [
        "# linspace()\n",
        "import numpy as np\n",
        "x = np.linspace(1,10,5) # start , end , number of elements\n",
        "print(x)"
      ],
      "metadata": {
        "colab": {
          "base_uri": "https://localhost:8080/"
        },
        "id": "cKQwlCJvGVoH",
        "outputId": "c00fd54b-facf-4a3e-9080-0250790b2a27"
      },
      "execution_count": null,
      "outputs": [
        {
          "output_type": "stream",
          "name": "stdout",
          "text": [
            "[ 1.    3.25  5.5   7.75 10.  ]\n"
          ]
        }
      ]
    },
    {
      "cell_type": "code",
      "metadata": {
        "colab": {
          "base_uri": "https://localhost:8080/"
        },
        "id": "T5hfod4Z6Iai",
        "outputId": "6562f499-af4a-487e-919d-73485111324f"
      },
      "source": [
        "#around()\n",
        "import numpy as np\n",
        "nos = np.array([2.6])\n",
        "print(np.around(nos))"
      ],
      "execution_count": null,
      "outputs": [
        {
          "output_type": "stream",
          "text": [
            "[3.]\n"
          ],
          "name": "stdout"
        }
      ]
    },
    {
      "cell_type": "code",
      "metadata": {
        "colab": {
          "base_uri": "https://localhost:8080/"
        },
        "id": "zI0_HSpE74wK",
        "outputId": "60d4bc14-cc4a-450b-f92c-fb9a8b9b56d6"
      },
      "source": [
        "#trunc()\n",
        "import numpy as np\n",
        "nos = np.array([2.9])\n",
        "print(np.trunc(nos))"
      ],
      "execution_count": null,
      "outputs": [
        {
          "output_type": "stream",
          "text": [
            "[2.]\n"
          ],
          "name": "stdout"
        }
      ]
    },
    {
      "cell_type": "code",
      "metadata": {
        "colab": {
          "base_uri": "https://localhost:8080/"
        },
        "id": "5z8EatnC6X7b",
        "outputId": "d89860fe-d4db-47a6-ec74-c17cfd43eb07"
      },
      "source": [
        "#fix()\n",
        "#  nearest integer towards zero.\n",
        "import numpy as np\n",
        "nos = np.array([2.9])\n",
        "print(np.fix(nos))\n"
      ],
      "execution_count": null,
      "outputs": [
        {
          "output_type": "stream",
          "text": [
            "[2.]\n"
          ],
          "name": "stdout"
        }
      ]
    },
    {
      "cell_type": "code",
      "metadata": {
        "colab": {
          "base_uri": "https://localhost:8080/"
        },
        "id": "YjIPOCaap0Nu",
        "outputId": "4e616334-4ed4-45b7-e652-a7f8d270e5aa"
      },
      "source": [
        "# random()\n",
        "from numpy import random\n",
        "nos = random.randint(10)\n",
        "print(nos)"
      ],
      "execution_count": null,
      "outputs": [
        {
          "output_type": "stream",
          "text": [
            "5\n"
          ],
          "name": "stdout"
        }
      ]
    },
    {
      "cell_type": "code",
      "metadata": {
        "colab": {
          "base_uri": "https://localhost:8080/"
        },
        "id": "nKEC5-MbqRD9",
        "outputId": "7e6c8d6b-30ae-4af2-ed3d-cb89ad6e89fa"
      },
      "source": [
        "# rand() method returns a random float between 0 and 1.\n",
        "from numpy import random\n",
        "nos = random.rand()\n",
        "print(nos)"
      ],
      "execution_count": null,
      "outputs": [
        {
          "output_type": "stream",
          "text": [
            "0.7248633133958765\n"
          ],
          "name": "stdout"
        }
      ]
    },
    {
      "cell_type": "code",
      "metadata": {
        "colab": {
          "base_uri": "https://localhost:8080/"
        },
        "id": "9QVD1Zsiqq99",
        "outputId": "ce7a71b7-3106-4e81-895b-1629c6d58eab"
      },
      "source": [
        "# randint() method takes a size parameter\n",
        "from numpy import random\n",
        "nos = random.randint(10,size=(3))\n",
        "print(nos)"
      ],
      "execution_count": null,
      "outputs": [
        {
          "output_type": "stream",
          "name": "stdout",
          "text": [
            "[8 3 4]\n"
          ]
        }
      ]
    },
    {
      "cell_type": "code",
      "metadata": {
        "colab": {
          "base_uri": "https://localhost:8080/"
        },
        "id": "ATfmifB_rC-1",
        "outputId": "d7f01cb7-4c4e-49de-e8ac-705a596d4f64"
      },
      "source": [
        "from numpy import random\n",
        "nos = random.randint(5, size=(2,3))\n",
        "print(nos)"
      ],
      "execution_count": null,
      "outputs": [
        {
          "output_type": "stream",
          "text": [
            "[[1 2 1]\n",
            " [0 1 1]]\n"
          ],
          "name": "stdout"
        }
      ]
    },
    {
      "cell_type": "code",
      "metadata": {
        "colab": {
          "base_uri": "https://localhost:8080/"
        },
        "id": "rcB3le7zrkol",
        "outputId": "b98f724e-9d87-4ce3-817b-5628e4619724"
      },
      "source": [
        "# choice() method allows you to generate a random value based on an array of values.\n",
        "from numpy import random\n",
        "nos = random.choice([4,6,2])\n",
        "print(nos)"
      ],
      "execution_count": null,
      "outputs": [
        {
          "output_type": "stream",
          "text": [
            "6\n"
          ],
          "name": "stdout"
        }
      ]
    },
    {
      "cell_type": "code",
      "metadata": {
        "colab": {
          "base_uri": "https://localhost:8080/"
        },
        "id": "9lZn4Ky6r2Xf",
        "outputId": "2724580f-026c-4dbf-e38c-5a85d7fcd50e"
      },
      "source": [
        "from numpy import random\n",
        "nos = random.choice([8,6,4,2], size=(2,3))\n",
        "print(nos)"
      ],
      "execution_count": null,
      "outputs": [
        {
          "output_type": "stream",
          "text": [
            "[[4 6 4]\n",
            " [2 8 8]]\n"
          ],
          "name": "stdout"
        }
      ]
    },
    {
      "cell_type": "code",
      "metadata": {
        "colab": {
          "base_uri": "https://localhost:8080/"
        },
        "id": "M5jcw1HLsozl",
        "outputId": "5acf2fc2-5fc0-4b20-9255-c9cd2090cec8"
      },
      "source": [
        "# Shuffle means changing arrangement of elements in-place. i.e. in the array itself.\n",
        "import numpy as np\n",
        "from numpy import random\n",
        "nos = np.array([5,10,15,20])\n",
        "random.shuffle(nos)\n",
        "print(nos)"
      ],
      "execution_count": null,
      "outputs": [
        {
          "output_type": "stream",
          "name": "stdout",
          "text": [
            "[15 20  5 10]\n"
          ]
        }
      ]
    },
    {
      "cell_type": "code",
      "metadata": {
        "colab": {
          "base_uri": "https://localhost:8080/"
        },
        "id": "sMLmsx63WoDN",
        "outputId": "fa527d81-107b-4654-b54b-6f4ffabcdbe0"
      },
      "source": [
        "# Count() function\n",
        "import numpy\n",
        "c = ['pooja','pramanik','happy']\n",
        "print(c)\n",
        "print(\" \")\n",
        "print(\"Count of 'a': \",np.char.count(c, 'a'))\n",
        "print(\"Count of 'p': \",np.char.count(c, 'p'))"
      ],
      "execution_count": null,
      "outputs": [
        {
          "output_type": "stream",
          "text": [
            "['pooja', 'pramanik', 'happy']\n",
            " \n",
            "Count of 'a':  [1 2 1]\n",
            "Count of 'p':  [1 1 2]\n"
          ],
          "name": "stdout"
        }
      ]
    },
    {
      "cell_type": "code",
      "metadata": {
        "colab": {
          "base_uri": "https://localhost:8080/"
        },
        "id": "-F1s8FdAXVel",
        "outputId": "77f76ad7-e4a3-45f6-be4d-944da180cff3"
      },
      "source": [
        "# Dot() function\n",
        "import numpy\n",
        "mat_1 = numpy.array([1,2])\n",
        "mat_2 = numpy.array([1,2])\n",
        "result = mat_1.dot(mat_2)\n",
        "print(result)"
      ],
      "execution_count": null,
      "outputs": [
        {
          "output_type": "stream",
          "name": "stdout",
          "text": [
            "5\n"
          ]
        }
      ]
    },
    {
      "cell_type": "code",
      "metadata": {
        "colab": {
          "base_uri": "https://localhost:8080/"
        },
        "id": "vDpAOO0_YEdl",
        "outputId": "a59c4e40-78da-4a7a-9ddb-e4623122190a"
      },
      "source": [
        "# Shape() method\n",
        "import numpy as np\n",
        "s = np.array([[1,2,3],[4,5,6],[7,8,9]])\n",
        "print(s)\n",
        "print(\"Rows and columns: \",s.shape)\n"
      ],
      "execution_count": null,
      "outputs": [
        {
          "output_type": "stream",
          "text": [
            "[[1 2 3]\n",
            " [4 5 6]\n",
            " [7 8 9]]\n",
            "Rows and columns:  (3, 3)\n"
          ],
          "name": "stdout"
        }
      ]
    },
    {
      "cell_type": "code",
      "metadata": {
        "colab": {
          "base_uri": "https://localhost:8080/"
        },
        "id": "RJC-pZ-TZy3E",
        "outputId": "5cd26018-aa9b-4494-aae4-647798c20fae"
      },
      "source": [
        "# reshape() function\n",
        "import numpy as np\n",
        "r = np.arange(1,11)\n",
        "print(r)\n",
        "print(\"Reshape() function:\")\n",
        "print(r.reshape(2,5))\n"
      ],
      "execution_count": null,
      "outputs": [
        {
          "output_type": "stream",
          "text": [
            "[ 1  2  3  4  5  6  7  8  9 10]\n",
            "Reshape() function:\n",
            "[[ 1  2  3  4  5]\n",
            " [ 6  7  8  9 10]]\n"
          ],
          "name": "stdout"
        }
      ]
    },
    {
      "cell_type": "code",
      "metadata": {
        "colab": {
          "base_uri": "https://localhost:8080/"
        },
        "id": "oLyoOS3MbHQh",
        "outputId": "1301076a-d225-42f0-b4d4-54dc5fee1ade"
      },
      "source": [
        "# round() function\n",
        "import numpy as np\n",
        "r = np.round([2.6 , 5.60])\n",
        "print(r)"
      ],
      "execution_count": null,
      "outputs": [
        {
          "output_type": "stream",
          "text": [
            "[3. 6.]\n"
          ],
          "name": "stdout"
        }
      ]
    },
    {
      "cell_type": "code",
      "metadata": {
        "colab": {
          "base_uri": "https://localhost:8080/"
        },
        "id": "r_iOu5fIbDcT",
        "outputId": "7aba8ff2-cb8a-4490-a403-df10a1b4b92b"
      },
      "source": [
        "# add() function\n",
        "import numpy as np\n",
        "a = np.array([10])\n",
        "b = np.array([20])\n",
        "result = np.add(a,b)\n",
        "print(result)"
      ],
      "execution_count": null,
      "outputs": [
        {
          "output_type": "stream",
          "text": [
            "[30]\n"
          ],
          "name": "stdout"
        }
      ]
    },
    {
      "cell_type": "code",
      "metadata": {
        "colab": {
          "base_uri": "https://localhost:8080/"
        },
        "id": "OAPcOIav20AG",
        "outputId": "9d8e1833-19c0-4a24-a72e-56a3fd65e1c9"
      },
      "source": [
        "# tile() function\n",
        "import numpy as np\n",
        "t = np.array([1,2,3,4])\n",
        "repeat = 3\n",
        "print(np.tile(t,repeat))"
      ],
      "execution_count": null,
      "outputs": [
        {
          "output_type": "stream",
          "text": [
            "[1 2 3 4 1 2 3 4 1 2 3 4]\n"
          ],
          "name": "stdout"
        }
      ]
    },
    {
      "cell_type": "code",
      "metadata": {
        "colab": {
          "base_uri": "https://localhost:8080/"
        },
        "id": "B0QTOQjy7sh0",
        "outputId": "7ad0bc64-1b0a-4fda-fa92-8d63009c0ec6"
      },
      "source": [
        "# mod() function\n",
        "import numpy as np\n",
        "n1 = 6\n",
        "n2 = 4\n",
        "print(np.mod(n1,n2))"
      ],
      "execution_count": null,
      "outputs": [
        {
          "output_type": "stream",
          "text": [
            "2\n"
          ],
          "name": "stdout"
        }
      ]
    },
    {
      "cell_type": "code",
      "metadata": {
        "colab": {
          "base_uri": "https://localhost:8080/"
        },
        "id": "4ePGXx1M8WDq",
        "outputId": "e363ac1e-40f1-4777-d7c7-de30bb3430f6"
      },
      "source": [
        "# mean() function\n",
        "import numpy as np\n",
        "m = np.array([1,2,3,4,5])\n",
        "print(\"Average: \",np.mean(m))"
      ],
      "execution_count": null,
      "outputs": [
        {
          "output_type": "stream",
          "text": [
            "Average:  3.0\n"
          ],
          "name": "stdout"
        }
      ]
    },
    {
      "cell_type": "code",
      "metadata": {
        "colab": {
          "base_uri": "https://localhost:8080/"
        },
        "id": "CycvxIUg_23h",
        "outputId": "718afa75-154f-481a-bff2-4ee9ad3e0811"
      },
      "source": [
        "# dtype ()\n",
        "import numpy as np\n",
        "p = np.array([1,2,3,4,5])\n",
        "print(\"dtype:     \",p.dtype)\n",
        "print(\"dimension: \",p.ndim)\n",
        "print(\"itemsize:  \",p.itemsize) # itemsize refer to the size of the elements in the given arrray\n",
        "print(\"Size:      \",p.size) # size means number of elements in the given array\n",
        "print(\"Shape:     \",p.shape) # shape will display the total number of rows and columns"
      ],
      "execution_count": null,
      "outputs": [
        {
          "output_type": "stream",
          "text": [
            "dtype:      int64\n",
            "dimension:  1\n",
            "itemsize:   8\n",
            "Size:       5\n",
            "Shape:      (5,)\n"
          ],
          "name": "stdout"
        }
      ]
    },
    {
      "cell_type": "code",
      "metadata": {
        "colab": {
          "base_uri": "https://localhost:8080/"
        },
        "id": "oJ7UqVUMAeq6",
        "outputId": "2d092456-82e2-475a-81db-9f3b551c8777"
      },
      "source": [
        "# zeros() and ones()\n",
        "import numpy as np\n",
        "p = np.zeros([2,2] ,dtype=int)\n",
        "q = np.ones([2,2] ,dtype=int)\n",
        "print(p)\n",
        "print(\" \")\n",
        "print(q)"
      ],
      "execution_count": null,
      "outputs": [
        {
          "output_type": "stream",
          "text": [
            "[[0 0]\n",
            " [0 0]]\n",
            " \n",
            "[[1 1]\n",
            " [1 1]]\n"
          ],
          "name": "stdout"
        }
      ]
    },
    {
      "cell_type": "code",
      "metadata": {
        "id": "HsF4ll2tCpAP",
        "colab": {
          "base_uri": "https://localhost:8080/"
        },
        "outputId": "5d580f45-cb85-47b2-b86f-a6a141ca49bc"
      },
      "source": [
        "#Q Create a Numpy array filled with all zeros | Python\n",
        "import numpy as np\n",
        "item = np.zeros([2,2])\n",
        "print(item)\n"
      ],
      "execution_count": null,
      "outputs": [
        {
          "output_type": "stream",
          "text": [
            "[[0. 0.]\n",
            " [0. 0.]]\n"
          ],
          "name": "stdout"
        }
      ]
    },
    {
      "cell_type": "code",
      "metadata": {
        "colab": {
          "base_uri": "https://localhost:8080/"
        },
        "id": "StK0d0ax-MAI",
        "outputId": "011736b5-76b3-4dda-d3e4-0119ce2457b8"
      },
      "source": [
        "#Q Create a Numpy array filled with all ones\n",
        "import numpy as np\n",
        "item = np.ones([3,3],dtype=int)\n",
        "print(item)"
      ],
      "execution_count": null,
      "outputs": [
        {
          "output_type": "stream",
          "text": [
            "[[1 1 1]\n",
            " [1 1 1]\n",
            " [1 1 1]]\n"
          ],
          "name": "stdout"
        }
      ]
    },
    {
      "cell_type": "code",
      "metadata": {
        "colab": {
          "base_uri": "https://localhost:8080/"
        },
        "id": "weVD5u_W-buI",
        "outputId": "3b88564b-bd13-4dd6-dfac-f4d7131ccd76"
      },
      "source": [
        "#Q Check whether a Numpy array contains a specified row\n",
        "import numpy as np\n",
        "item = np.array([[1,2,3],[4,5,6,],[7,8,9]])\n",
        "print(item)\n",
        "print([1,2,3] in item.tolist())\n",
        "print([11,1,2] in item.tolist())"
      ],
      "execution_count": null,
      "outputs": [
        {
          "output_type": "stream",
          "text": [
            "[[1 2 3]\n",
            " [4 5 6]\n",
            " [7 8 9]]\n",
            "True\n",
            "False\n"
          ],
          "name": "stdout"
        }
      ]
    },
    {
      "cell_type": "code",
      "metadata": {
        "colab": {
          "base_uri": "https://localhost:8080/"
        },
        "id": "zf6KT0mbm89m",
        "outputId": "a7c8aa24-8a77-4fe2-b5be-2c3877e00053"
      },
      "source": [
        "#Q \n",
        "import numpy as np\n",
        "  \n",
        "num_1d = np.arange(5)\n",
        "print(\"One dimensional array:\")\n",
        "print(num_1d)\n",
        "  \n",
        "num_2d = np.arange(10).reshape(2,5)\n",
        "print(\"\\nTwo dimensional array:\")\n",
        "print(num_2d)\n",
        "  \n",
        "# Combine 1-D and 2-D arrays and display \n",
        "# their elements using numpy.nditer() \n",
        "for x, y in np.nditer([num_1d, num_2d]):\n",
        "    print(\"%d:%d\" % (x, y),)"
      ],
      "execution_count": null,
      "outputs": [
        {
          "output_type": "stream",
          "text": [
            "One dimensional array:\n",
            "[0 1 2 3 4]\n",
            "\n",
            "Two dimensional array:\n",
            "[[0 1 2 3 4]\n",
            " [5 6 7 8 9]]\n",
            "0:0\n",
            "1:1\n",
            "2:2\n",
            "3:3\n",
            "4:4\n",
            "0:5\n",
            "1:6\n",
            "2:7\n",
            "3:8\n",
            "4:9\n"
          ],
          "name": "stdout"
        }
      ]
    },
    {
      "cell_type": "code",
      "metadata": {
        "colab": {
          "base_uri": "https://localhost:8080/"
        },
        "id": "pghP8x26nOrn",
        "outputId": "f278316a-6270-407e-a33c-65c7fb4354d7"
      },
      "source": [
        "#Q Combining a one and a two-dimensional NumPy Array\n",
        "import numpy as np\n",
        "list1 = np.arange(1,6)\n",
        "print(list1)\n",
        "list2 = np.arange(1,11).reshape(2,5)\n",
        "print(list2)\n",
        "for x, y in np.nditer([list1, list2]):\n",
        "  print(\"%d:%d\" % (x, y),)"
      ],
      "execution_count": null,
      "outputs": [
        {
          "output_type": "stream",
          "text": [
            "[1 2 3 4 5]\n",
            "[[ 1  2  3  4  5]\n",
            " [ 6  7  8  9 10]]\n",
            "1:1\n",
            "2:2\n",
            "3:3\n",
            "4:4\n",
            "5:5\n",
            "1:6\n",
            "2:7\n",
            "3:8\n",
            "4:9\n",
            "5:10\n"
          ],
          "name": "stdout"
        }
      ]
    },
    {
      "cell_type": "code",
      "metadata": {
        "colab": {
          "base_uri": "https://localhost:8080/"
        },
        "id": "IHeAiEKm2MPt",
        "outputId": "bbc99b7a-f55d-427c-a569-0c32e61cb956"
      },
      "source": [
        "#Q  return the index of all items that has the value 4 from the array below:\n",
        "import numpy as np\n",
        "nos = np.array([1,4,2,4,4,4])\n",
        "nos = np.where(nos==4)\n",
        "print(nos)"
      ],
      "execution_count": null,
      "outputs": [
        {
          "output_type": "stream",
          "text": [
            "(array([1, 3, 4, 5]),)\n"
          ],
          "name": "stdout"
        }
      ]
    },
    {
      "cell_type": "code",
      "metadata": {
        "colab": {
          "base_uri": "https://localhost:8080/"
        },
        "id": "62ZJGAYt2mPd",
        "outputId": "09ba47d8-7022-4ca3-fc8e-be8e6e450370"
      },
      "source": [
        "#Q Sort the elements \n",
        "import numpy as np\n",
        "nos = np.array([5,8,7,1,3])\n",
        "result = np.sort(nos)\n",
        "print(result)"
      ],
      "execution_count": null,
      "outputs": [
        {
          "output_type": "stream",
          "text": [
            "[1 3 5 7 8]\n"
          ],
          "name": "stdout"
        }
      ]
    },
    {
      "cell_type": "code",
      "metadata": {
        "colab": {
          "base_uri": "https://localhost:8080/"
        },
        "id": "E9VyMail5TVQ",
        "outputId": "2c6867c5-5cf6-4315-ef34-9298a37e0535"
      },
      "source": [
        "#Q cumsum()\n",
        "import numpy as np\n",
        "nos = np.array([1,2,3,4])\n",
        "nos = np.cumsum(nos)\n",
        "print(nos)"
      ],
      "execution_count": null,
      "outputs": [
        {
          "output_type": "stream",
          "text": [
            "[ 1  3  6 10]\n"
          ],
          "name": "stdout"
        }
      ]
    },
    {
      "cell_type": "code",
      "metadata": {
        "id": "94qgPu1L-Ecf"
      },
      "source": [
        "# NOTE  NUMPY"
      ],
      "execution_count": null,
      "outputs": []
    },
    {
      "cell_type": "code",
      "metadata": {
        "id": "qzBR6adm-x1P"
      },
      "source": [
        "# np.std(lists) -> standard deviation"
      ],
      "execution_count": null,
      "outputs": []
    },
    {
      "cell_type": "code",
      "metadata": {
        "colab": {
          "base_uri": "https://localhost:8080/"
        },
        "id": "JPGNklT104gJ",
        "outputId": "f2b9ddba-6d24-4df0-d94c-0f4b26f33920"
      },
      "source": [
        "\n",
        "import numpy as np\n",
        "lists = np.array([[4,2],[2,5]])\n",
        "print(lists.itemsize) # itemsize -> it will fetch the byte size\n",
        "print(lists.dtype)  # dytpe -> will fetch the type of data it is \n",
        "print(lists.ndim) # ndim -> will fetch the dimension\n",
        "print(lists.size) # size -> it will fetch the count of the total elements present in list\n",
        "print(lists.shape) # shape -> it will fetch the no. of rows n column"
      ],
      "execution_count": null,
      "outputs": [
        {
          "output_type": "stream",
          "name": "stdout",
          "text": [
            "8\n",
            "int64\n",
            "2\n",
            "4\n",
            "(2, 2)\n"
          ]
        }
      ]
    },
    {
      "cell_type": "code",
      "metadata": {
        "colab": {
          "base_uri": "https://localhost:8080/"
        },
        "id": "Sl_FP8zc8mbI",
        "outputId": "2d4eb292-1a47-4216-a167-68882f445a18"
      },
      "source": [
        "import numpy as np\n",
        "lists = np.arange(1,11) #arange -> this work as range() function in python syntax:- (start, end, step)\n",
        "print(lists)"
      ],
      "execution_count": null,
      "outputs": [
        {
          "output_type": "stream",
          "name": "stdout",
          "text": [
            "[ 1  2  3  4  5  6  7  8  9 10]\n"
          ]
        }
      ]
    },
    {
      "cell_type": "code",
      "metadata": {
        "id": "WoUrXjzt-DIY",
        "colab": {
          "base_uri": "https://localhost:8080/"
        },
        "outputId": "3a97a20e-d650-4d38-9b1b-0c2950b0488d"
      },
      "source": [
        "lists = np.linspace(1,2,5) #linspace -> it will  returns an evenly spaced sequence of numbers\n",
        "print(lists)"
      ],
      "execution_count": null,
      "outputs": [
        {
          "output_type": "stream",
          "name": "stdout",
          "text": [
            "[1.   1.25 1.5  1.75 2.  ]\n"
          ]
        }
      ]
    },
    {
      "cell_type": "code",
      "metadata": {
        "colab": {
          "base_uri": "https://localhost:8080/"
        },
        "id": "qihnrhS2A65o",
        "outputId": "b65fa787-1655-4a2f-88bf-0f6da1966e3b"
      },
      "source": [
        "import numpy as np\n",
        "lists = np.array([[4,5],[5,7],[4,4]])\n",
        "print(lists.shape)\n",
        "lists.reshape(2,3)\n",
        "lists.ravel() # it will flaten the list inshort in will make it 1 dimensional array"
      ],
      "execution_count": null,
      "outputs": [
        {
          "output_type": "stream",
          "name": "stdout",
          "text": [
            "(3, 2)\n"
          ]
        },
        {
          "output_type": "execute_result",
          "data": {
            "text/plain": [
              "array([4, 5, 5, 7, 4, 4])"
            ]
          },
          "metadata": {},
          "execution_count": 30
        }
      ]
    },
    {
      "cell_type": "code",
      "metadata": {
        "colab": {
          "base_uri": "https://localhost:8080/"
        },
        "id": "U_oSWNL26sK5",
        "outputId": "db01d504-8a8a-4b57-d0c6-8479959c5a90"
      },
      "source": [
        "lists = np.array([4,2], dtype=np.int32)\n",
        "print(lists.dtype) "
      ],
      "execution_count": null,
      "outputs": [
        {
          "output_type": "stream",
          "name": "stdout",
          "text": [
            "int32\n"
          ]
        }
      ]
    },
    {
      "cell_type": "code",
      "metadata": {
        "colab": {
          "base_uri": "https://localhost:8080/"
        },
        "id": "ie3qYuHMC9Nd",
        "outputId": "e2366e9f-7e39-4787-e379-a5c378d17abf"
      },
      "source": [
        "import numpy as np\n",
        "lists = np.array([1,2,4,3,5])\n",
        "print(lists.min()) # min() -> it will fetch the minimum no.\n",
        "print(lists.max()) # max()  -> it will fetch the maximum no.\n",
        "print(lists.sum()) # sum() -> it will total(sum) all the elements"
      ],
      "execution_count": null,
      "outputs": [
        {
          "output_type": "stream",
          "name": "stdout",
          "text": [
            "1\n",
            "5\n",
            "15\n"
          ]
        }
      ]
    },
    {
      "cell_type": "code",
      "metadata": {
        "colab": {
          "base_uri": "https://localhost:8080/"
        },
        "id": "Ta37Wfy8EWjW",
        "outputId": "0bc19ee2-4aef-437c-f551-bf7f58a8b383"
      },
      "source": [
        "# axis 0 = column\n",
        "# axis 1 = row\n",
        "import numpy as np\n",
        "lists = np.array([[1,2],[3,4],[5,6]])\n",
        "print(lists.sum(axis=0))\n",
        "print(lists.sum(axis=1))"
      ],
      "execution_count": null,
      "outputs": [
        {
          "output_type": "stream",
          "name": "stdout",
          "text": [
            "[ 9 12]\n",
            "[ 3  7 11]\n"
          ]
        }
      ]
    },
    {
      "cell_type": "code",
      "metadata": {
        "colab": {
          "base_uri": "https://localhost:8080/"
        },
        "id": "VKciIUa5FFQd",
        "outputId": "38eaa712-4c54-49e9-962f-6f798b22e870"
      },
      "source": [
        "import numpy as np\n",
        "lists = np.array([16,25])\n",
        "print(np.sqrt(lists)) # sqrt (square root)"
      ],
      "execution_count": null,
      "outputs": [
        {
          "output_type": "stream",
          "name": "stdout",
          "text": [
            "[4. 5.]\n"
          ]
        }
      ]
    },
    {
      "cell_type": "code",
      "metadata": {
        "colab": {
          "base_uri": "https://localhost:8080/"
        },
        "id": "oNocXxoSGF6u",
        "outputId": "871d8e74-2861-475c-a660-50dd6e16f030"
      },
      "source": [
        "import numpy as np\n",
        "num_1 = np.array([[1,2],[3,4]])\n",
        "num_2 = np.array([[1,2],[3,4]])\n",
        "r = num_1 + num_2\n",
        "print(\"Sum\\n\",r) # mathematical operation are possible in numpy (+,-,*,/)\n",
        "print(\"Matrix product : \\n\",num_1.dot(num_2))"
      ],
      "execution_count": null,
      "outputs": [
        {
          "output_type": "stream",
          "name": "stdout",
          "text": [
            "Sum\n",
            " [[2 4]\n",
            " [6 8]]\n",
            "Matrix product : \n",
            " [[ 7 10]\n",
            " [15 22]]\n"
          ]
        }
      ]
    },
    {
      "cell_type": "code",
      "metadata": {
        "colab": {
          "base_uri": "https://localhost:8080/"
        },
        "id": "MxnuRQnjkMpL",
        "outputId": "48ac266a-386d-4cbf-cbfc-2cf102630656"
      },
      "source": [
        "import numpy as np\n",
        "lists = np.array([1,2,3,4,5])\n",
        "print(lists[1:3]) # indexing -> with the help of index value one can fetch elements from list\n",
        "print(lists[-1]) # np support negative index as well"
      ],
      "execution_count": null,
      "outputs": [
        {
          "output_type": "stream",
          "name": "stdout",
          "text": [
            "[2 3]\n",
            "5\n"
          ]
        }
      ]
    },
    {
      "cell_type": "code",
      "metadata": {
        "colab": {
          "base_uri": "https://localhost:8080/"
        },
        "id": "hPpW0yqWlDvP",
        "outputId": "d8c149dc-8b82-4080-9c01-934b52769c6f"
      },
      "source": [
        "import numpy as np\n",
        "lists = np.array([[1,2,3],[5,4,7],[7,5,2]])\n",
        "print(lists[1,2]) # here 1 indicate row1 & 2 indicate column2"
      ],
      "execution_count": null,
      "outputs": [
        {
          "output_type": "stream",
          "name": "stdout",
          "text": [
            "7\n"
          ]
        }
      ]
    },
    {
      "cell_type": "code",
      "metadata": {
        "colab": {
          "base_uri": "https://localhost:8080/"
        },
        "id": "6KXgKfQem2A-",
        "outputId": "3db00433-352a-49de-faab-cc1026e784a7"
      },
      "source": [
        "import numpy as np\n",
        "lists = np.array([[1,2,3],[5,4,7],[7,5,2]])\n",
        "for i in lists:\n",
        "  print(i)"
      ],
      "execution_count": null,
      "outputs": [
        {
          "output_type": "stream",
          "name": "stdout",
          "text": [
            "[1 2 3]\n",
            "[5 4 7]\n",
            "[7 5 2]\n"
          ]
        }
      ]
    },
    {
      "cell_type": "code",
      "metadata": {
        "colab": {
          "base_uri": "https://localhost:8080/"
        },
        "id": "XG2mLIEFnGWu",
        "outputId": "a839da23-7266-47bf-a2e0-fe6b21d142ef"
      },
      "source": [
        "import numpy as np\n",
        "lists = np.array([[1,2,3],[5,4,7],[7,5,2]])\n",
        "for i in lists.flat:\n",
        "  print(i)"
      ],
      "execution_count": null,
      "outputs": [
        {
          "output_type": "stream",
          "name": "stdout",
          "text": [
            "1\n",
            "2\n",
            "3\n",
            "5\n",
            "4\n",
            "7\n",
            "7\n",
            "5\n",
            "2\n"
          ]
        }
      ]
    },
    {
      "cell_type": "code",
      "metadata": {
        "colab": {
          "base_uri": "https://localhost:8080/"
        },
        "id": "Ijp1SEb1nZmG",
        "outputId": "3ec78e43-2baa-4356-9be6-9f8e4e37573f"
      },
      "source": [
        "import numpy as np\n",
        "x = np.arange(6).reshape(3,2)\n",
        "y = np.arange(6).reshape(3,2)\n",
        "print(\"Mat_1 :\\n\",x)\n",
        "print(\"Mat_2 :\\n\",y)\n",
        "print(\"Result of  vstack :\",np.vstack((x,y)))"
      ],
      "execution_count": null,
      "outputs": [
        {
          "output_type": "stream",
          "name": "stdout",
          "text": [
            "Mat_1 :\n",
            " [[0 1]\n",
            " [2 3]\n",
            " [4 5]]\n",
            "Mat_2 :\n",
            " [[0 1]\n",
            " [2 3]\n",
            " [4 5]]\n",
            "Result of  vstack : [[0 1]\n",
            " [2 3]\n",
            " [4 5]\n",
            " [0 1]\n",
            " [2 3]\n",
            " [4 5]]\n"
          ]
        }
      ]
    },
    {
      "cell_type": "code",
      "metadata": {
        "colab": {
          "base_uri": "https://localhost:8080/"
        },
        "id": "OGqxDnp7oyjg",
        "outputId": "74ff8d45-042f-40a8-c2ba-76060f374913"
      },
      "source": [
        "np.vstack((x,y)) # np.vstack(()) {vertical stacking}"
      ],
      "execution_count": null,
      "outputs": [
        {
          "output_type": "execute_result",
          "data": {
            "text/plain": [
              "array([[0, 1],\n",
              "       [2, 3],\n",
              "       [4, 5],\n",
              "       [0, 1],\n",
              "       [2, 3],\n",
              "       [4, 5]])"
            ]
          },
          "metadata": {},
          "execution_count": 19
        }
      ]
    },
    {
      "cell_type": "code",
      "metadata": {
        "colab": {
          "base_uri": "https://localhost:8080/"
        },
        "id": "YE6bRpkbpk4S",
        "outputId": "d218fb61-4820-403b-fcea-fa34ad069586"
      },
      "source": [
        "np.hstack((x,y)) #np.hstack(()) {horizontal stacking}"
      ],
      "execution_count": null,
      "outputs": [
        {
          "output_type": "execute_result",
          "data": {
            "text/plain": [
              "array([[0, 1, 0, 1],\n",
              "       [2, 3, 2, 3],\n",
              "       [4, 5, 4, 5]])"
            ]
          },
          "metadata": {},
          "execution_count": 20
        }
      ]
    },
    {
      "cell_type": "code",
      "metadata": {
        "colab": {
          "base_uri": "https://localhost:8080/"
        },
        "id": "bb6HsMWwp2ht",
        "outputId": "23b46768-b0d1-4181-e2b2-34d1f1425756"
      },
      "source": [
        "import numpy as np\n",
        "a = np.arange(30).reshape(2,15)\n",
        "print(a)"
      ],
      "execution_count": null,
      "outputs": [
        {
          "output_type": "stream",
          "name": "stdout",
          "text": [
            "[[ 0  1  2  3  4  5  6  7  8  9 10 11 12 13 14]\n",
            " [15 16 17 18 19 20 21 22 23 24 25 26 27 28 29]]\n"
          ]
        }
      ]
    },
    {
      "cell_type": "code",
      "metadata": {
        "colab": {
          "base_uri": "https://localhost:8080/"
        },
        "id": "Q7LgZXmBqTH9",
        "outputId": "53a6560c-cde7-4d46-8a3a-4851386a13ff"
      },
      "source": [
        "np.hsplit(a,3) # np.hsplit"
      ],
      "execution_count": null,
      "outputs": [
        {
          "output_type": "execute_result",
          "data": {
            "text/plain": [
              "[array([[ 0,  1,  2,  3,  4],\n",
              "        [15, 16, 17, 18, 19]]), array([[ 5,  6,  7,  8,  9],\n",
              "        [20, 21, 22, 23, 24]]), array([[10, 11, 12, 13, 14],\n",
              "        [25, 26, 27, 28, 29]])]"
            ]
          },
          "metadata": {},
          "execution_count": 23
        }
      ]
    },
    {
      "cell_type": "code",
      "metadata": {
        "colab": {
          "base_uri": "https://localhost:8080/"
        },
        "id": "DsQ5rrWdqZpt",
        "outputId": "db7938ff-bc2a-4dc0-cc2d-d0ca22de638e"
      },
      "source": [
        "result = np.hsplit(a, 3)\n",
        "print(result[0])"
      ],
      "execution_count": null,
      "outputs": [
        {
          "output_type": "stream",
          "name": "stdout",
          "text": [
            "[[ 0  1  2  3  4]\n",
            " [15 16 17 18 19]]\n"
          ]
        }
      ]
    },
    {
      "cell_type": "code",
      "metadata": {
        "colab": {
          "base_uri": "https://localhost:8080/"
        },
        "id": "GafGfbsgqpFR",
        "outputId": "868e67f5-c87c-4e0a-8b28-8ca376bec644"
      },
      "source": [
        "result[1]"
      ],
      "execution_count": null,
      "outputs": [
        {
          "output_type": "execute_result",
          "data": {
            "text/plain": [
              "array([[ 5,  6,  7,  8,  9],\n",
              "       [20, 21, 22, 23, 24]])"
            ]
          },
          "metadata": {},
          "execution_count": 27
        }
      ]
    },
    {
      "cell_type": "code",
      "metadata": {
        "colab": {
          "base_uri": "https://localhost:8080/"
        },
        "id": "28sBtvjdqsgk",
        "outputId": "b1233193-c349-4830-b04b-4782341e4bbd"
      },
      "source": [
        "result[2]"
      ],
      "execution_count": null,
      "outputs": [
        {
          "output_type": "execute_result",
          "data": {
            "text/plain": [
              "array([[10, 11, 12, 13, 14],\n",
              "       [25, 26, 27, 28, 29]])"
            ]
          },
          "metadata": {},
          "execution_count": 28
        }
      ]
    },
    {
      "cell_type": "code",
      "metadata": {
        "colab": {
          "base_uri": "https://localhost:8080/"
        },
        "id": "5ioDm51XrARd",
        "outputId": "7b0605fd-43d4-4355-8835-db093bae4f1d"
      },
      "source": [
        "np.vsplit(a,2) # np.vsplit\n",
        "\n"
      ],
      "execution_count": null,
      "outputs": [
        {
          "output_type": "execute_result",
          "data": {
            "text/plain": [
              "[array([[ 0,  1,  2,  3,  4,  5,  6,  7,  8,  9, 10, 11, 12, 13, 14]]),\n",
              " array([[15, 16, 17, 18, 19, 20, 21, 22, 23, 24, 25, 26, 27, 28, 29]])]"
            ]
          },
          "metadata": {},
          "execution_count": 34
        }
      ]
    },
    {
      "cell_type": "code",
      "metadata": {
        "colab": {
          "base_uri": "https://localhost:8080/"
        },
        "id": "kh_sS-nnrYL1",
        "outputId": "c61a2c23-74b8-4907-8e5f-d789f215a9d6"
      },
      "source": [
        "result = np.vsplit(a,2)\n",
        "result[0]"
      ],
      "execution_count": null,
      "outputs": [
        {
          "output_type": "execute_result",
          "data": {
            "text/plain": [
              "array([[ 0,  1,  2,  3,  4,  5,  6,  7,  8,  9, 10, 11, 12, 13, 14]])"
            ]
          },
          "metadata": {},
          "execution_count": 32
        }
      ]
    },
    {
      "cell_type": "code",
      "metadata": {
        "colab": {
          "base_uri": "https://localhost:8080/"
        },
        "id": "KLM8Ok6msDcV",
        "outputId": "c3c4a5f2-ea95-42c5-b946-bdc1f33583aa"
      },
      "source": [
        "import numpy as np\n",
        "lists = np.arange(12).reshape(3,4)\n",
        "print(lists)\n",
        "print(\" \")\n",
        "b = lists > 4\n",
        "print(b)\n",
        "print(\" \")\n",
        "print(b.dtype) # dtype -> it will return the type of value\n",
        "print(\" \")\n",
        "lists[b] # it return those numbers which is True\n"
      ],
      "execution_count": null,
      "outputs": [
        {
          "output_type": "stream",
          "name": "stdout",
          "text": [
            "[[ 0  1  2  3]\n",
            " [ 4  5  6  7]\n",
            " [ 8  9 10 11]]\n",
            " \n",
            "[[False False False False]\n",
            " [False  True  True  True]\n",
            " [ True  True  True  True]]\n",
            " \n",
            "bool\n",
            " \n"
          ]
        },
        {
          "output_type": "execute_result",
          "data": {
            "text/plain": [
              "array([ 5,  6,  7,  8,  9, 10, 11])"
            ]
          },
          "metadata": {},
          "execution_count": 44
        }
      ]
    },
    {
      "cell_type": "code",
      "metadata": {
        "colab": {
          "base_uri": "https://localhost:8080/"
        },
        "id": "DhwIvsJutk21",
        "outputId": "d63f05e8-7de2-4cad-b3c5-8c75f8bdeab7"
      },
      "source": [
        "lists[b] = 4 # this method will replace the value which one have given\n",
        "lists"
      ],
      "execution_count": null,
      "outputs": [
        {
          "output_type": "execute_result",
          "data": {
            "text/plain": [
              "array([[0, 1, 2, 3],\n",
              "       [4, 4, 4, 4],\n",
              "       [4, 4, 4, 4]])"
            ]
          },
          "metadata": {},
          "execution_count": 46
        }
      ]
    },
    {
      "cell_type": "code",
      "metadata": {
        "colab": {
          "base_uri": "https://localhost:8080/"
        },
        "id": "mVUhTjaWTSi_",
        "outputId": "090407fe-5dab-46f4-fe62-fa6b06d8870b"
      },
      "source": [
        "import numpy as np\n",
        "lists = np.array([[1,3],[2,8]])\n",
        "for i in lists.flatten(): # flatten()\n",
        "  print(i)"
      ],
      "execution_count": null,
      "outputs": [
        {
          "output_type": "stream",
          "name": "stdout",
          "text": [
            "1\n",
            "3\n",
            "2\n",
            "8\n"
          ]
        }
      ]
    },
    {
      "cell_type": "code",
      "metadata": {
        "colab": {
          "base_uri": "https://localhost:8080/"
        },
        "id": "AFuoYHscUjaW",
        "outputId": "b6b2e6d0-bbec-4c0f-f828-5daa95bf00f3"
      },
      "source": [
        " for x in np.nditer(lists, order='c'): # oder= 'c' mean rows wise\n",
        "    print(x)"
      ],
      "execution_count": null,
      "outputs": [
        {
          "output_type": "stream",
          "name": "stdout",
          "text": [
            "1\n",
            "3\n",
            "2\n",
            "8\n"
          ]
        }
      ]
    },
    {
      "cell_type": "code",
      "metadata": {
        "colab": {
          "base_uri": "https://localhost:8080/"
        },
        "id": "TlOlUmG_VIeu",
        "outputId": "18d9c5a7-fab6-4237-d825-ef1f82c682b4"
      },
      "source": [
        "for i in np.nditer (lists,order=\"f\"): # order = \" f \" means column wise\n",
        "  print(i)"
      ],
      "execution_count": null,
      "outputs": [
        {
          "output_type": "stream",
          "name": "stdout",
          "text": [
            "1\n",
            "2\n",
            "3\n",
            "8\n"
          ]
        }
      ]
    },
    {
      "cell_type": "code",
      "metadata": {
        "id": "V4uBS3m-gxtu"
      },
      "source": [
        "# Q) How to replace items that satisfy a condition without affecting the original array?"
      ],
      "execution_count": null,
      "outputs": []
    },
    {
      "cell_type": "code",
      "metadata": {
        "colab": {
          "base_uri": "https://localhost:8080/"
        },
        "id": "BeInAAtCjSla",
        "outputId": "c2451dbc-f24b-481c-da3b-0e4af408623f"
      },
      "source": [
        "# Q) How to stack two arrays vertically?\n",
        "\n",
        "import numpy as np\n",
        "list_1 = np.arange(10).reshape(2,-1)\n",
        "list_2 = np.arange(11,21).reshape(2,-1)\n",
        "print(list_1)\n",
        "print(list_2)\n",
        "np.vstack([list_1,list_2]) # vstack in arrange the stack in vetical order"
      ],
      "execution_count": null,
      "outputs": [
        {
          "output_type": "stream",
          "name": "stdout",
          "text": [
            "[[0 1 2 3 4]\n",
            " [5 6 7 8 9]]\n",
            "[[11 12 13 14 15]\n",
            " [16 17 18 19 20]]\n"
          ]
        },
        {
          "output_type": "execute_result",
          "data": {
            "text/plain": [
              "array([[ 0,  1,  2,  3,  4],\n",
              "       [ 5,  6,  7,  8,  9],\n",
              "       [11, 12, 13, 14, 15],\n",
              "       [16, 17, 18, 19, 20]])"
            ]
          },
          "metadata": {},
          "execution_count": 3
        }
      ]
    },
    {
      "cell_type": "code",
      "metadata": {
        "colab": {
          "base_uri": "https://localhost:8080/"
        },
        "id": "-zGqcre1lLgq",
        "outputId": "b38ffc93-034d-4aa6-d958-f3aa42f94b88"
      },
      "source": [
        "# Q)  How to stack two arrays horizontally?\n",
        "import numpy as np\n",
        "x = np.arange(21,31)\n",
        "y = np.arange(31,41)\n",
        "print(x)\n",
        "print(y)\n",
        "np.hstack([x,y])"
      ],
      "execution_count": null,
      "outputs": [
        {
          "output_type": "stream",
          "name": "stdout",
          "text": [
            "[21 22 23 24 25 26 27 28 29 30]\n",
            "[31 32 33 34 35 36 37 38 39 40]\n"
          ]
        },
        {
          "output_type": "execute_result",
          "data": {
            "text/plain": [
              "array([21, 22, 23, 24, 25, 26, 27, 28, 29, 30, 31, 32, 33, 34, 35, 36, 37,\n",
              "       38, 39, 40])"
            ]
          },
          "metadata": {},
          "execution_count": 2
        }
      ]
    },
    {
      "cell_type": "code",
      "metadata": {
        "colab": {
          "base_uri": "https://localhost:8080/"
        },
        "id": "X9EHtGmrxsDo",
        "outputId": "5e75c1ef-e94d-4e1f-bc46-f8965b42d515"
      },
      "source": [
        "# Element-wise addition of 2 numpy arrays\n",
        "import numpy as n\n",
        "num1 = n.array([1,2,3,4])\n",
        "num2 = n.array([5,6,7,8])\n",
        "print(num1 + num2)"
      ],
      "execution_count": null,
      "outputs": [
        {
          "output_type": "stream",
          "name": "stdout",
          "text": [
            "[ 6  8 10 12]\n"
          ]
        }
      ]
    }
  ]
}